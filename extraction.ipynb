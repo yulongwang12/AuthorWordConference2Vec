{
 "cells": [
  {
   "cell_type": "code",
   "execution_count": 1,
   "metadata": {
    "collapsed": true
   },
   "outputs": [],
   "source": [
    "from RAKE.rake import Rake\n",
    "import pandas as pd\n",
    "import numpy as np\n",
    "import time"
   ]
  },
  {
   "cell_type": "code",
   "execution_count": 2,
   "metadata": {
    "collapsed": false
   },
   "outputs": [],
   "source": [
    "data_path = \"data/acm.txt\"\n",
    "extractor = Rake()\n",
    "selected_conference = pd.read_csv('conf_list.csv', delimiter='\\t', header=None).as_matrix()"
   ]
  },
  {
   "cell_type": "code",
   "execution_count": 3,
   "metadata": {
    "collapsed": true
   },
   "outputs": [],
   "source": [
    "def summarize(info, extractor):\n",
    "    keywords = extractor.run(info[0])\n",
    "    \n",
    "    interests = [kw[0] for kw in iter(keywords) if kw[1] > 1 and kw[1] < 10]\n",
    "    info[0] = interests\n",
    "    return info"
   ]
  },
  {
   "cell_type": "code",
   "execution_count": 4,
   "metadata": {
    "collapsed": false
   },
   "outputs": [],
   "source": [
    "f = open(data_path)\n",
    "line = ' '\n",
    "papers = []\n",
    "info = []\n",
    "counter = 0"
   ]
  },
  {
   "cell_type": "code",
   "execution_count": 5,
   "metadata": {
    "collapsed": false
   },
   "outputs": [
    {
     "name": "stdout",
     "output_type": "stream",
     "text": [
      "processing 100000-th paper, elapsed time = 12.842000\n",
      "processing 200000-th paper, elapsed time = 12.214000\n",
      "processing 300000-th paper, elapsed time = 11.553000\n",
      "processing 400000-th paper, elapsed time = 11.645000\n",
      "processing 500000-th paper, elapsed time = 11.580000\n",
      "processing 600000-th paper, elapsed time = 11.607000\n",
      "processing 700000-th paper, elapsed time = 11.569000\n",
      "processing 800000-th paper, elapsed time = 11.662000\n",
      "processing 900000-th paper, elapsed time = 11.637000\n",
      "processing 1000000-th paper, elapsed time = 11.593000\n",
      "processing 1100000-th paper, elapsed time = 11.437000\n",
      "processing 1200000-th paper, elapsed time = 11.684000\n",
      "processing 1300000-th paper, elapsed time = 11.757000\n",
      "processing 1400000-th paper, elapsed time = 11.661000\n",
      "processing 1500000-th paper, elapsed time = 11.739000\n",
      "processing 1600000-th paper, elapsed time = 11.619000\n",
      "processing 1700000-th paper, elapsed time = 11.613000\n",
      "processing 1800000-th paper, elapsed time = 11.608000\n",
      "processing 1900000-th paper, elapsed time = 11.600000\n",
      "processing 2000000-th paper, elapsed time = 11.622000\n",
      "processing 2100000-th paper, elapsed time = 11.563000\n",
      "processing 2200000-th paper, elapsed time = 11.789000\n",
      "processing 2300000-th paper, elapsed time = 11.661000\n",
      "2381688 papers extraction finished!\n"
     ]
    }
   ],
   "source": [
    "st = time.time()\n",
    "while(line != ''):\n",
    "    if line[0] == '\\n':\n",
    "        if len(info) == 3:\n",
    "            for conf in iter(selected_conference):\n",
    "                abbrev = conf[0]\n",
    "                full = conf[1]\n",
    "                \n",
    "                if info[-1].find(abbrev) != -1 or info[-1].find(full) != -1:\n",
    "                    info[-1] = abbrev\n",
    "                    newinfo = summarize(info, extractor)\n",
    "                    if newinfo[0] != []:\n",
    "                        papers.append(newinfo)\n",
    "                    \n",
    "                    break\n",
    "            \n",
    "        info = []\n",
    "        counter += 1\n",
    "        \n",
    "        if counter % 100000 == 0:\n",
    "            print ('processing %d-th paper, elapsed time = %f' % (counter, time.time() - st))\n",
    "            st = time.time()\n",
    "        \n",
    "    elif line[:2] == \"#*\":\n",
    "        title = line[2:-1]\n",
    "        info.append(title)\n",
    "    elif line[:2] == \"#@\":\n",
    "        authors = line[2:-1].split(', ')\n",
    "        info.append(authors)\n",
    "    elif line[:2] == \"#c\":\n",
    "        venue = line[2:-1]\n",
    "        info.append(venue)\n",
    "    \n",
    "    line = f.readline()\n",
    "\n",
    "print \"%d papers extraction finished!\" % (counter)"
   ]
  },
  {
   "cell_type": "code",
   "execution_count": 6,
   "metadata": {
    "collapsed": true
   },
   "outputs": [],
   "source": [
    "np.save('extr-titles.npy', papers)"
   ]
  },
  {
   "cell_type": "code",
   "execution_count": 7,
   "metadata": {
    "collapsed": false
   },
   "outputs": [],
   "source": [
    "f.close()"
   ]
  }
 ],
 "metadata": {
  "kernelspec": {
   "display_name": "Python 2",
   "language": "python",
   "name": "python2"
  },
  "language_info": {
   "codemirror_mode": {
    "name": "ipython",
    "version": 2
   },
   "file_extension": ".py",
   "mimetype": "text/x-python",
   "name": "python",
   "nbconvert_exporter": "python",
   "pygments_lexer": "ipython2",
   "version": "2.7.11"
  }
 },
 "nbformat": 4,
 "nbformat_minor": 0
}

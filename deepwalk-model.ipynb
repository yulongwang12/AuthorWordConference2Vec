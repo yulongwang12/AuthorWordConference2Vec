{
 "cells": [
  {
   "cell_type": "code",
   "execution_count": 1,
   "metadata": {
    "collapsed": true
   },
   "outputs": [],
   "source": [
    "import numpy as np\n",
    "import pandas as pd\n",
    "import time\n",
    "import os\n",
    "import random\n",
    "from collections import defaultdict\n",
    "import deepwalk_graph as graph\n",
    "from gensim.models.word2vec import Word2Vec"
   ]
  },
  {
   "cell_type": "code",
   "execution_count": 2,
   "metadata": {
    "collapsed": true
   },
   "outputs": [],
   "source": [
    "papers = np.load('extr-titles.npy')"
   ]
  },
  {
   "cell_type": "code",
   "execution_count": 3,
   "metadata": {
    "collapsed": true
   },
   "outputs": [],
   "source": [
    "conference_list = pd.read_csv('conf_list.csv', header=None, delimiter='\\t', names=['abbrev', 'fullname'])"
   ]
  },
  {
   "cell_type": "code",
   "execution_count": 4,
   "metadata": {
    "collapsed": false
   },
   "outputs": [],
   "source": [
    "author_conference = defaultdict(lambda: [])"
   ]
  },
  {
   "cell_type": "code",
   "execution_count": 5,
   "metadata": {
    "collapsed": true
   },
   "outputs": [],
   "source": [
    "for paper in iter(papers):\n",
    "    authors = paper[1]\n",
    "    venue = paper[2]\n",
    "    for author in iter(authors):\n",
    "        author_conference[author].append(venue)\n",
    "\n",
    "noname = author_conference.pop('')"
   ]
  },
  {
   "cell_type": "code",
   "execution_count": 6,
   "metadata": {
    "collapsed": false
   },
   "outputs": [],
   "source": [
    "conf_matrix = conference_list['abbrev'].as_matrix()\n",
    "conf2indx = {k: v for v, k in enumerate(conf_matrix)}\n",
    "author2indx = {}\n",
    "conf_link_author = defaultdict(lambda: [])\n",
    "conf_num = len(conf_matrix)\n",
    "minimum_publications = 5"
   ]
  },
  {
   "cell_type": "code",
   "execution_count": 7,
   "metadata": {
    "collapsed": false
   },
   "outputs": [],
   "source": [
    "f = open('author_conference_net.adjlist', 'w')"
   ]
  },
  {
   "cell_type": "code",
   "execution_count": 8,
   "metadata": {
    "collapsed": true
   },
   "outputs": [],
   "source": [
    "counter = 0\n",
    "for author, confs in author_conference.iteritems():\n",
    "    if len(confs) >= minimum_publications:\n",
    "        at_indx = conf_num + counter\n",
    "        author2indx[author] = at_indx\n",
    "        line = str(at_indx)\n",
    "        for cf in iter(confs):\n",
    "            cf_indx = conf2indx[cf]\n",
    "            conf_link_author[cf_indx].append(at_indx)\n",
    "            line += ' ' + str(cf_indx)\n",
    "        line += '\\n'\n",
    "        f.write(line)\n",
    "        counter += 1"
   ]
  },
  {
   "cell_type": "code",
   "execution_count": 9,
   "metadata": {
    "collapsed": false
   },
   "outputs": [],
   "source": [
    "for cf_indx, at_indxes in conf_link_author.iteritems():\n",
    "    line = str(cf_indx)\n",
    "    for at_indx in iter(at_indxes):\n",
    "        line += ' ' + str(at_indx)\n",
    "    \n",
    "    line += '\\n'\n",
    "    f.write(line)"
   ]
  },
  {
   "cell_type": "code",
   "execution_count": 10,
   "metadata": {
    "collapsed": true
   },
   "outputs": [],
   "source": [
    "f.close()"
   ]
  },
  {
   "cell_type": "code",
   "execution_count": 11,
   "metadata": {
    "collapsed": false
   },
   "outputs": [],
   "source": [
    "G = graph.load_adjacencylist('author_conference_net.adjlist')"
   ]
  },
  {
   "cell_type": "code",
   "execution_count": 12,
   "metadata": {
    "collapsed": false
   },
   "outputs": [
    {
     "name": "stdout",
     "output_type": "stream",
     "text": [
      "17.1699998379\n"
     ]
    }
   ],
   "source": [
    "st = time.time()\n",
    "walks = graph.build_deepwalk_corpus(G, num_paths=10, path_length=40, \\\n",
    "                                    alpha=0, rand=random.Random(1234))\n",
    "\n",
    "print time.time() - st"
   ]
  },
  {
   "cell_type": "code",
   "execution_count": 13,
   "metadata": {
    "collapsed": false
   },
   "outputs": [],
   "source": [
    "# all the node number add \"n\" prefix\n",
    "# to solve deepwalk issue #3: TypeError: unsupported operand type(s) for +: 'int' and 'str'\n",
    "sentences = []\n",
    "for walk in iter(walks):\n",
    "    sent = []\n",
    "    for node in iter(walk):\n",
    "        sent.append('n' + str(node))\n",
    "    \n",
    "    sentences.append(sent)"
   ]
  },
  {
   "cell_type": "code",
   "execution_count": 14,
   "metadata": {
    "collapsed": false
   },
   "outputs": [
    {
     "name": "stdout",
     "output_type": "stream",
     "text": [
      "38.1300001144\n"
     ]
    }
   ],
   "source": [
    "st = time.time()\n",
    "model = Word2Vec(sentences, size=100, window=5, min_count=5, workers=4)\n",
    "print time.time() -st"
   ]
  },
  {
   "cell_type": "code",
   "execution_count": 15,
   "metadata": {
    "collapsed": true
   },
   "outputs": [],
   "source": [
    "indx2author = {k: v for v, k in author2indx.iteritems()}"
   ]
  },
  {
   "cell_type": "code",
   "execution_count": 16,
   "metadata": {
    "collapsed": false,
    "scrolled": true
   },
   "outputs": [],
   "source": [
    "def author_conf_similarity(model, author2indx, indx2author, conf2indx, author, conf1, conf2, topn=10):\n",
    "    '''\n",
    "        return topn similar author by calculating author - conf1 + conf2\n",
    "    '''\n",
    "    node1 = 'n' + str(author2indx[author])\n",
    "    node2 = 'n' + str(conf2indx[conf1])\n",
    "    node3 = 'n' + str(conf2indx[conf2])\n",
    "    \n",
    "    vec1 = model[node1]\n",
    "    vec2 = model[node2]\n",
    "    vec3 = model[node3]\n",
    "    \n",
    "    results = model.most_similar([vec1 - vec2 + vec3], topn=topn+10)\n",
    "    counter = 0\n",
    "    sim_authors = []\n",
    "    for i, res in enumerate(results):\n",
    "        index = int(res[0][1:])\n",
    "        if index > 75: # not conference, but author index\n",
    "            sim_authors.append((indx2author[index], res[1]))\n",
    "            counter += 1\n",
    "            if counter == topn:\n",
    "                break\n",
    "    \n",
    "    return sim_authors"
   ]
  },
  {
   "cell_type": "code",
   "execution_count": 17,
   "metadata": {
    "collapsed": false
   },
   "outputs": [
    {
     "data": {
      "text/plain": [
       "[('James Allan', 0.6710748672485352),\n",
       " ('Tetsuya Sakai', 0.6528191566467285),\n",
       " ('Alistair Moffat', 0.6473925113677979),\n",
       " ('Charles L.A. Clarke', 0.6466618776321411),\n",
       " ('Jamie Callan', 0.6432892084121704),\n",
       " ('Milad Shokouhi', 0.6432796716690063),\n",
       " ('Stephen Robertson', 0.6386977434158325),\n",
       " ('Arjen P. de Vries', 0.63796067237854),\n",
       " ('David Hawking', 0.637642502784729),\n",
       " ('Nicholas J. Belkin', 0.6345908045768738)]"
      ]
     },
     "execution_count": 17,
     "metadata": {},
     "output_type": "execute_result"
    }
   ],
   "source": [
    "a1 = \"Jiawei Han\"\n",
    "c1 = \"SIGKDD\"\n",
    "c2 = \"SIGIR\"\n",
    "author_conf_similarity(model, author2indx, indx2author, conf2indx, a1, c1, c2)"
   ]
  },
  {
   "cell_type": "code",
   "execution_count": 18,
   "metadata": {
    "collapsed": false,
    "scrolled": true
   },
   "outputs": [
    {
     "data": {
      "text/plain": [
       "[('Peter Muth', 0.6977096199989319),\n",
       " ('Richard Hull', 0.6892060041427612),\n",
       " ('Nesime Tatbul', 0.6891045570373535),\n",
       " ('Alkis Simitsis', 0.6846166849136353),\n",
       " ('Wenfei Fan', 0.6813915967941284),\n",
       " ('Betty Salzberg', 0.6813511848449707),\n",
       " ('Michael J. Carey', 0.6809432506561279),\n",
       " ('Arie Segev', 0.6800684928894043),\n",
       " ('Maurice van Keulen', 0.679888129234314),\n",
       " ('D. Agrawal', 0.6789271831512451)]"
      ]
     },
     "execution_count": 18,
     "metadata": {},
     "output_type": "execute_result"
    }
   ],
   "source": [
    "a1 = \"Jiawei Han\"\n",
    "c1 = \"SIGKDD\"\n",
    "c2 = \"SIGMOD\"\n",
    "author_conf_similarity(model, author2indx, indx2author, conf2indx, a1, c1, c2)"
   ]
  },
  {
   "cell_type": "code",
   "execution_count": 19,
   "metadata": {
    "collapsed": false
   },
   "outputs": [
    {
     "data": {
      "text/plain": [
       "[('Padhraic Smyth', 0.4324393570423126),\n",
       " ('Claudia Perlich', 0.4297933578491211),\n",
       " ('Junjie Wu', 0.42488935589790344),\n",
       " ('Gregory Piatetsky-Shapiro', 0.4159601032733917),\n",
       " ('Yehuda Koren', 0.41522032022476196),\n",
       " ('Jieping Ye', 0.410919189453125),\n",
       " ('Aristides Gionis', 0.40918970108032227),\n",
       " ('Ravi Kumar', 0.40248775482177734),\n",
       " ('Deepayan Chakrabarti', 0.4009716510772705),\n",
       " ('Jaideep Srivastava', 0.39661943912506104)]"
      ]
     },
     "execution_count": 19,
     "metadata": {},
     "output_type": "execute_result"
    }
   ],
   "source": [
    "a1 = \"Michael I. Jordan\"\n",
    "c1 = \"ICML\"\n",
    "c2 = \"SIGKDD\"\n",
    "author_conf_similarity(model, author2indx, indx2author, conf2indx, a1, c1, c2)"
   ]
  }
 ],
 "metadata": {
  "kernelspec": {
   "display_name": "Python 2",
   "language": "python",
   "name": "python2"
  },
  "language_info": {
   "codemirror_mode": {
    "name": "ipython",
    "version": 2
   },
   "file_extension": ".py",
   "mimetype": "text/x-python",
   "name": "python",
   "nbconvert_exporter": "python",
   "pygments_lexer": "ipython2",
   "version": "2.7.11"
  }
 },
 "nbformat": 4,
 "nbformat_minor": 0
}
